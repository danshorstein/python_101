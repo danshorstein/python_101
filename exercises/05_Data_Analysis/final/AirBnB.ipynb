{
 "cells": [
  {
   "cell_type": "markdown",
   "metadata": {},
   "source": [
    "## Part 2: Python for Data Analysis\n",
    "#### An Analysis of AirBnB Listings"
   ]
  },
  {
   "cell_type": "markdown",
   "metadata": {},
   "source": [
    "The purpose of this exercise is to learn some basic data analysis and visualization techniques in Python while exploring the AirBnB listings data set for trends and other interesting insights. \n",
    "\n",
    "Research question: What factors impact review scores for airBnB listings?"
   ]
  },
  {
   "cell_type": "markdown",
   "metadata": {},
   "source": [
    "Q: What are some fundamental steps you would take to try and answer this question?"
   ]
  },
  {
   "cell_type": "code",
   "execution_count": 3,
   "metadata": {},
   "outputs": [],
   "source": [
    "# import libraries\n",
    "import pandas as pd\n",
    "import numpy as np\n",
    "import os\n",
    "import seaborn as sns\n",
    "import matplotlib.pyplot as plt\n",
    "import datetime "
   ]
  },
  {
   "cell_type": "code",
   "execution_count": null,
   "metadata": {},
   "outputs": [],
   "source": [
    "# Set our working directory\n",
    "# Always good practice to set your working directory\n",
    "# The folder that Python is pointing to to read data from and read data to\n",
    "\n",
    "# You will need to change this path to your own working directory.\n",
    "# Make sure to include the r in your string to denote a string literal, as python \n",
    "# does not recognize back slashes without this notation\n",
    "\n",
    "path = r'C:\\Users\\dglotzhober\\Desktop\\Python Training'\n",
    "os.chdir(path)"
   ]
  },
  {
   "cell_type": "code",
   "execution_count": 5,
   "metadata": {
    "scrolled": true
   },
   "outputs": [
    {
     "name": "stderr",
     "output_type": "stream",
     "text": [
      "C:\\Users\\dglotzhober\\anaconda3\\lib\\site-packages\\IPython\\core\\interactiveshell.py:2785: DtypeWarning: Columns (22) have mixed types. Specify dtype option on import or set low_memory=False.\n",
      "  interactivity=interactivity, compiler=compiler, result=result)\n"
     ]
    },
    {
     "data": {
      "text/html": [
       "<div>\n",
       "<style scoped>\n",
       "    .dataframe tbody tr th:only-of-type {\n",
       "        vertical-align: middle;\n",
       "    }\n",
       "\n",
       "    .dataframe tbody tr th {\n",
       "        vertical-align: top;\n",
       "    }\n",
       "\n",
       "    .dataframe thead th {\n",
       "        text-align: right;\n",
       "    }\n",
       "</style>\n",
       "<table border=\"1\" class=\"dataframe\">\n",
       "  <thead>\n",
       "    <tr style=\"text-align: right;\">\n",
       "      <th></th>\n",
       "      <th>accommodates</th>\n",
       "      <th>bathrooms</th>\n",
       "      <th>bed_type</th>\n",
       "      <th>bedrooms</th>\n",
       "      <th>beds</th>\n",
       "      <th>cancellation_policy</th>\n",
       "      <th>city</th>\n",
       "      <th>cleaning_fee</th>\n",
       "      <th>first_review</th>\n",
       "      <th>host_has_profile_pic</th>\n",
       "      <th>...</th>\n",
       "      <th>instant_bookable</th>\n",
       "      <th>last_review</th>\n",
       "      <th>latitude</th>\n",
       "      <th>longitude</th>\n",
       "      <th>neighbourhood</th>\n",
       "      <th>number_of_reviews</th>\n",
       "      <th>property_type</th>\n",
       "      <th>review_scores_rating</th>\n",
       "      <th>room_type</th>\n",
       "      <th>zipcode</th>\n",
       "    </tr>\n",
       "  </thead>\n",
       "  <tbody>\n",
       "    <tr>\n",
       "      <th>0</th>\n",
       "      <td>1</td>\n",
       "      <td>1.0</td>\n",
       "      <td>Real Bed</td>\n",
       "      <td>1</td>\n",
       "      <td>1</td>\n",
       "      <td>flexible</td>\n",
       "      <td>SF</td>\n",
       "      <td>True</td>\n",
       "      <td>8/15/2016</td>\n",
       "      <td>t</td>\n",
       "      <td>...</td>\n",
       "      <td>t</td>\n",
       "      <td>1/18/2017</td>\n",
       "      <td>37.773742</td>\n",
       "      <td>-122.391503</td>\n",
       "      <td>Mission Bay</td>\n",
       "      <td>5</td>\n",
       "      <td>Apartment</td>\n",
       "      <td>95</td>\n",
       "      <td>Private room</td>\n",
       "      <td>95202\\r\\r\\r\\r\\r\\r\\r</td>\n",
       "    </tr>\n",
       "    <tr>\n",
       "      <th>1</th>\n",
       "      <td>1</td>\n",
       "      <td>1.0</td>\n",
       "      <td>Real Bed</td>\n",
       "      <td>1</td>\n",
       "      <td>1</td>\n",
       "      <td>flexible</td>\n",
       "      <td>LA</td>\n",
       "      <td>False</td>\n",
       "      <td>NaN</td>\n",
       "      <td>t</td>\n",
       "      <td>...</td>\n",
       "      <td>f</td>\n",
       "      <td>NaN</td>\n",
       "      <td>34.135680</td>\n",
       "      <td>-118.400691</td>\n",
       "      <td>Studio City</td>\n",
       "      <td>6</td>\n",
       "      <td>House</td>\n",
       "      <td>100</td>\n",
       "      <td>Private room</td>\n",
       "      <td>91604-3646</td>\n",
       "    </tr>\n",
       "    <tr>\n",
       "      <th>2</th>\n",
       "      <td>2</td>\n",
       "      <td>1.0</td>\n",
       "      <td>Real Bed</td>\n",
       "      <td>1</td>\n",
       "      <td>1</td>\n",
       "      <td>moderate</td>\n",
       "      <td>LA</td>\n",
       "      <td>True</td>\n",
       "      <td>11/16/2011</td>\n",
       "      <td>t</td>\n",
       "      <td>...</td>\n",
       "      <td>f</td>\n",
       "      <td>4/8/2017</td>\n",
       "      <td>34.192617</td>\n",
       "      <td>-118.136794</td>\n",
       "      <td>Altadena</td>\n",
       "      <td>136</td>\n",
       "      <td>Apartment</td>\n",
       "      <td>96</td>\n",
       "      <td>Entire home/apt</td>\n",
       "      <td>91001-2243</td>\n",
       "    </tr>\n",
       "    <tr>\n",
       "      <th>3</th>\n",
       "      <td>2</td>\n",
       "      <td>1.0</td>\n",
       "      <td>Real Bed</td>\n",
       "      <td>1</td>\n",
       "      <td>1</td>\n",
       "      <td>flexible</td>\n",
       "      <td>LA</td>\n",
       "      <td>False</td>\n",
       "      <td>NaN</td>\n",
       "      <td>t</td>\n",
       "      <td>...</td>\n",
       "      <td>f</td>\n",
       "      <td>NaN</td>\n",
       "      <td>34.023618</td>\n",
       "      <td>-118.501174</td>\n",
       "      <td>Santa Monica</td>\n",
       "      <td>0</td>\n",
       "      <td>Apartment</td>\n",
       "      <td>96</td>\n",
       "      <td>Private room</td>\n",
       "      <td>90403-2638</td>\n",
       "    </tr>\n",
       "    <tr>\n",
       "      <th>4</th>\n",
       "      <td>2</td>\n",
       "      <td>1.0</td>\n",
       "      <td>Real Bed</td>\n",
       "      <td>1</td>\n",
       "      <td>1</td>\n",
       "      <td>moderate</td>\n",
       "      <td>LA</td>\n",
       "      <td>True</td>\n",
       "      <td>9/6/2010</td>\n",
       "      <td>t</td>\n",
       "      <td>...</td>\n",
       "      <td>f</td>\n",
       "      <td>2/28/2017</td>\n",
       "      <td>34.104213</td>\n",
       "      <td>-118.260040</td>\n",
       "      <td>Silver Lake</td>\n",
       "      <td>16</td>\n",
       "      <td>House</td>\n",
       "      <td>99</td>\n",
       "      <td>Private room</td>\n",
       "      <td>90039-2715</td>\n",
       "    </tr>\n",
       "  </tbody>\n",
       "</table>\n",
       "<p>5 rows × 23 columns</p>\n",
       "</div>"
      ],
      "text/plain": [
       "   accommodates  bathrooms  bed_type  bedrooms  beds cancellation_policy city  \\\n",
       "0             1        1.0  Real Bed         1     1            flexible   SF   \n",
       "1             1        1.0  Real Bed         1     1            flexible   LA   \n",
       "2             2        1.0  Real Bed         1     1            moderate   LA   \n",
       "3             2        1.0  Real Bed         1     1            flexible   LA   \n",
       "4             2        1.0  Real Bed         1     1            moderate   LA   \n",
       "\n",
       "   cleaning_fee first_review host_has_profile_pic         ...           \\\n",
       "0          True    8/15/2016                    t         ...            \n",
       "1         False          NaN                    t         ...            \n",
       "2          True   11/16/2011                    t         ...            \n",
       "3         False          NaN                    t         ...            \n",
       "4          True     9/6/2010                    t         ...            \n",
       "\n",
       "  instant_bookable  last_review   latitude   longitude neighbourhood  \\\n",
       "0                t    1/18/2017  37.773742 -122.391503   Mission Bay   \n",
       "1                f          NaN  34.135680 -118.400691   Studio City   \n",
       "2                f     4/8/2017  34.192617 -118.136794      Altadena   \n",
       "3                f          NaN  34.023618 -118.501174  Santa Monica   \n",
       "4                f    2/28/2017  34.104213 -118.260040   Silver Lake   \n",
       "\n",
       "   number_of_reviews  property_type review_scores_rating        room_type  \\\n",
       "0                  5      Apartment                   95     Private room   \n",
       "1                  6          House                  100     Private room   \n",
       "2                136      Apartment                   96  Entire home/apt   \n",
       "3                  0      Apartment                   96     Private room   \n",
       "4                 16          House                   99     Private room   \n",
       "\n",
       "               zipcode  \n",
       "0  95202\\r\\r\\r\\r\\r\\r\\r  \n",
       "1           91604-3646  \n",
       "2           91001-2243  \n",
       "3           90403-2638  \n",
       "4           90039-2715  \n",
       "\n",
       "[5 rows x 23 columns]"
      ]
     },
     "execution_count": 5,
     "metadata": {},
     "output_type": "execute_result"
    }
   ],
   "source": [
    "# Read csv into a pandas dataframe\n",
    "df = pd.read_csv('airbnb.csv')\n",
    "\n",
    "# Notice warning about mixed data types.\n",
    "df.head()"
   ]
  },
  {
   "cell_type": "code",
   "execution_count": 7,
   "metadata": {},
   "outputs": [
    {
     "data": {
      "text/html": [
       "<div>\n",
       "<style scoped>\n",
       "    .dataframe tbody tr th:only-of-type {\n",
       "        vertical-align: middle;\n",
       "    }\n",
       "\n",
       "    .dataframe tbody tr th {\n",
       "        vertical-align: top;\n",
       "    }\n",
       "\n",
       "    .dataframe thead th {\n",
       "        text-align: right;\n",
       "    }\n",
       "</style>\n",
       "<table border=\"1\" class=\"dataframe\">\n",
       "  <thead>\n",
       "    <tr style=\"text-align: right;\">\n",
       "      <th></th>\n",
       "      <th>zipcode</th>\n",
       "    </tr>\n",
       "  </thead>\n",
       "  <tbody>\n",
       "    <tr>\n",
       "      <th>0</th>\n",
       "      <td>95202\\r\\r\\r\\r\\r\\r\\r</td>\n",
       "    </tr>\n",
       "    <tr>\n",
       "      <th>1</th>\n",
       "      <td>91604-3646</td>\n",
       "    </tr>\n",
       "    <tr>\n",
       "      <th>2</th>\n",
       "      <td>91001-2243</td>\n",
       "    </tr>\n",
       "    <tr>\n",
       "      <th>3</th>\n",
       "      <td>90403-2638</td>\n",
       "    </tr>\n",
       "    <tr>\n",
       "      <th>4</th>\n",
       "      <td>90039-2715</td>\n",
       "    </tr>\n",
       "    <tr>\n",
       "      <th>5</th>\n",
       "      <td>90036-2514</td>\n",
       "    </tr>\n",
       "    <tr>\n",
       "      <th>6</th>\n",
       "      <td>90035-4475</td>\n",
       "    </tr>\n",
       "    <tr>\n",
       "      <th>7</th>\n",
       "      <td>90034-2203</td>\n",
       "    </tr>\n",
       "    <tr>\n",
       "      <th>8</th>\n",
       "      <td>90005-3747</td>\n",
       "    </tr>\n",
       "    <tr>\n",
       "      <th>9</th>\n",
       "      <td>60660-1448</td>\n",
       "    </tr>\n",
       "    <tr>\n",
       "      <th>10</th>\n",
       "      <td>20001-4044</td>\n",
       "    </tr>\n",
       "    <tr>\n",
       "      <th>11</th>\n",
       "      <td>11249\\r\\r\\r\\r\\r\\r\\r</td>\n",
       "    </tr>\n",
       "    <tr>\n",
       "      <th>12</th>\n",
       "      <td>11103-3233</td>\n",
       "    </tr>\n",
       "    <tr>\n",
       "      <th>13</th>\n",
       "      <td>10003-8623</td>\n",
       "    </tr>\n",
       "    <tr>\n",
       "      <th>14</th>\n",
       "      <td>10002-2289</td>\n",
       "    </tr>\n",
       "    <tr>\n",
       "      <th>15</th>\n",
       "      <td>02134-1704</td>\n",
       "    </tr>\n",
       "    <tr>\n",
       "      <th>16</th>\n",
       "      <td>02108 02111</td>\n",
       "    </tr>\n",
       "    <tr>\n",
       "      <th>17</th>\n",
       "      <td></td>\n",
       "    </tr>\n",
       "    <tr>\n",
       "      <th>18</th>\n",
       "      <td></td>\n",
       "    </tr>\n",
       "    <tr>\n",
       "      <th>19</th>\n",
       "      <td>99135</td>\n",
       "    </tr>\n",
       "    <tr>\n",
       "      <th>20</th>\n",
       "      <td>99041</td>\n",
       "    </tr>\n",
       "    <tr>\n",
       "      <th>21</th>\n",
       "      <td>94401</td>\n",
       "    </tr>\n",
       "    <tr>\n",
       "      <th>22</th>\n",
       "      <td>94306</td>\n",
       "    </tr>\n",
       "    <tr>\n",
       "      <th>23</th>\n",
       "      <td>94158</td>\n",
       "    </tr>\n",
       "    <tr>\n",
       "      <th>24</th>\n",
       "      <td>94158</td>\n",
       "    </tr>\n",
       "  </tbody>\n",
       "</table>\n",
       "</div>"
      ],
      "text/plain": [
       "                zipcode\n",
       "0   95202\\r\\r\\r\\r\\r\\r\\r\n",
       "1            91604-3646\n",
       "2            91001-2243\n",
       "3            90403-2638\n",
       "4            90039-2715\n",
       "5            90036-2514\n",
       "6            90035-4475\n",
       "7            90034-2203\n",
       "8            90005-3747\n",
       "9            60660-1448\n",
       "10           20001-4044\n",
       "11  11249\\r\\r\\r\\r\\r\\r\\r\n",
       "12           11103-3233\n",
       "13           10003-8623\n",
       "14           10002-2289\n",
       "15           02134-1704\n",
       "16          02108 02111\n",
       "17                     \n",
       "18                     \n",
       "19                99135\n",
       "20                99041\n",
       "21                94401\n",
       "22                94306\n",
       "23                94158\n",
       "24                94158"
      ]
     },
     "execution_count": 7,
     "metadata": {},
     "output_type": "execute_result"
    }
   ],
   "source": [
    "df.iloc[0:25, [22]]"
   ]
  },
  {
   "cell_type": "code",
   "execution_count": 7,
   "metadata": {},
   "outputs": [
    {
     "data": {
      "text/html": [
       "<div>\n",
       "<style scoped>\n",
       "    .dataframe tbody tr th:only-of-type {\n",
       "        vertical-align: middle;\n",
       "    }\n",
       "\n",
       "    .dataframe tbody tr th {\n",
       "        vertical-align: top;\n",
       "    }\n",
       "\n",
       "    .dataframe thead th {\n",
       "        text-align: right;\n",
       "    }\n",
       "</style>\n",
       "<table border=\"1\" class=\"dataframe\">\n",
       "  <thead>\n",
       "    <tr style=\"text-align: right;\">\n",
       "      <th></th>\n",
       "      <th>zipcode</th>\n",
       "    </tr>\n",
       "  </thead>\n",
       "  <tbody>\n",
       "    <tr>\n",
       "      <th>99559</th>\n",
       "      <td>2108</td>\n",
       "    </tr>\n",
       "    <tr>\n",
       "      <th>99560</th>\n",
       "      <td>2108</td>\n",
       "    </tr>\n",
       "    <tr>\n",
       "      <th>99561</th>\n",
       "      <td>2108</td>\n",
       "    </tr>\n",
       "    <tr>\n",
       "      <th>99562</th>\n",
       "      <td>2108</td>\n",
       "    </tr>\n",
       "    <tr>\n",
       "      <th>99563</th>\n",
       "      <td>2108</td>\n",
       "    </tr>\n",
       "    <tr>\n",
       "      <th>99564</th>\n",
       "      <td>2108</td>\n",
       "    </tr>\n",
       "    <tr>\n",
       "      <th>99565</th>\n",
       "      <td>2108</td>\n",
       "    </tr>\n",
       "    <tr>\n",
       "      <th>99566</th>\n",
       "      <td>2026</td>\n",
       "    </tr>\n",
       "    <tr>\n",
       "      <th>99567</th>\n",
       "      <td>210</td>\n",
       "    </tr>\n",
       "    <tr>\n",
       "      <th>99568</th>\n",
       "      <td>NaN</td>\n",
       "    </tr>\n",
       "  </tbody>\n",
       "</table>\n",
       "</div>"
      ],
      "text/plain": [
       "      zipcode\n",
       "99559    2108\n",
       "99560    2108\n",
       "99561    2108\n",
       "99562    2108\n",
       "99563    2108\n",
       "99564    2108\n",
       "99565    2108\n",
       "99566    2026\n",
       "99567     210\n",
       "99568     NaN"
      ]
     },
     "execution_count": 7,
     "metadata": {},
     "output_type": "execute_result"
    }
   ],
   "source": [
    "# Reference/slice your data using numeric indexing\n",
    "# Indexing starts at 0 rather than 1\n",
    "df.iloc[-10:,[22]]"
   ]
  },
  {
   "cell_type": "code",
   "execution_count": 8,
   "metadata": {
    "scrolled": true
   },
   "outputs": [],
   "source": [
    "# Read in your data set but this time specify the data type\n",
    "df = pd.read_csv('airbnb.csv', dtype={'zipcode':str})"
   ]
  },
  {
   "cell_type": "code",
   "execution_count": 9,
   "metadata": {},
   "outputs": [
    {
     "name": "stdout",
     "output_type": "stream",
     "text": [
      "(99569, 23) 2290087\n"
     ]
    }
   ],
   "source": [
    "# Let's find out the dimensions of our data set\n",
    "print(df.shape, df.size)"
   ]
  },
  {
   "cell_type": "code",
   "execution_count": null,
   "metadata": {},
   "outputs": [],
   "source": [
    "# Output first 5 rows of the data\n",
    "df.head()"
   ]
  },
  {
   "cell_type": "code",
   "execution_count": 11,
   "metadata": {},
   "outputs": [
    {
     "name": "stdout",
     "output_type": "stream",
     "text": [
      "<class 'pandas.core.frame.DataFrame'>\n",
      "RangeIndex: 99569 entries, 0 to 99568\n",
      "Data columns (total 23 columns):\n",
      "accommodates              99569 non-null int64\n",
      "bathrooms                 99569 non-null float64\n",
      "bed_type                  99569 non-null object\n",
      "bedrooms                  99569 non-null int64\n",
      "beds                      99569 non-null int64\n",
      "cancellation_policy       99569 non-null object\n",
      "city                      99569 non-null object\n",
      "cleaning_fee              99569 non-null bool\n",
      "first_review              58247 non-null object\n",
      "host_has_profile_pic      99569 non-null object\n",
      "host_identity_verified    99569 non-null object\n",
      "host_response_rate        99569 non-null int64\n",
      "host_since                73923 non-null object\n",
      "instant_bookable          99569 non-null object\n",
      "last_review               58284 non-null object\n",
      "latitude                  99569 non-null float64\n",
      "longitude                 99569 non-null float64\n",
      "neighbourhood             99569 non-null object\n",
      "number_of_reviews         99569 non-null int64\n",
      "property_type             99569 non-null object\n",
      "review_scores_rating      99569 non-null int64\n",
      "room_type                 99569 non-null object\n",
      "zipcode                   99568 non-null object\n",
      "dtypes: bool(1), float64(3), int64(6), object(13)\n",
      "memory usage: 11.9+ MB\n"
     ]
    }
   ],
   "source": [
    "df.info()"
   ]
  },
  {
   "cell_type": "markdown",
   "metadata": {},
   "source": [
    "## Data Cleaning"
   ]
  },
  {
   "cell_type": "code",
   "execution_count": null,
   "metadata": {},
   "outputs": [],
   "source": [
    "# Identify columns and their data types\n",
    "df.dtypes"
   ]
  },
  {
   "cell_type": "code",
   "execution_count": 12,
   "metadata": {},
   "outputs": [
    {
     "data": {
      "text/plain": [
       "2    91001-2243\n",
       "3    90403-2638\n",
       "6    90035-4475\n",
       "7    90034-2203\n",
       "8    90005-3747\n",
       "Name: zipcode, dtype: object"
      ]
     },
     "execution_count": 12,
     "metadata": {},
     "output_type": "execute_result"
    }
   ],
   "source": [
    "df.columns.get_loc(\"zipcode\")\n",
    "df['zipcode'][(df['city']=='LA') & (df['property_type']=='Apartment')].head()"
   ]
  },
  {
   "cell_type": "code",
   "execution_count": 13,
   "metadata": {},
   "outputs": [
    {
     "data": {
      "text/plain": [
       "0    95202\n",
       "1    91604\n",
       "2    91001\n",
       "3    90403\n",
       "4    90039\n",
       "Name: zipcode, dtype: object"
      ]
     },
     "execution_count": 13,
     "metadata": {},
     "output_type": "execute_result"
    }
   ],
   "source": [
    "# Clean zip code data\n",
    "\n",
    "# Extract only the first 5 characters \n",
    "df['zipcode'] = df['zipcode'].str[:5]\n",
    "\n",
    "# left pad string with zeros up to 5 characters\n",
    "df['zipcode'] = df['zipcode'].str.zfill(5)\n",
    "df['zipcode'].head(n=5)"
   ]
  },
  {
   "cell_type": "code",
   "execution_count": 14,
   "metadata": {},
   "outputs": [],
   "source": [
    "# Convert date fields to datetime\n",
    "df['first_review'] = pd.to_datetime(df['first_review'])\n",
    "df['host_since'] = pd.to_datetime(df['host_since'])\n",
    "df['last_review'] = pd.to_datetime(df['last_review'])"
   ]
  },
  {
   "cell_type": "code",
   "execution_count": 15,
   "metadata": {},
   "outputs": [],
   "source": [
    "# Convert binary variables to 0 and 1 for consistency\n",
    "df['cleaning_fee'] = np.where(df['cleaning_fee']==True, 1, 0)\n",
    "df['host_has_profile_pic'] = np.where(df['host_has_profile_pic']=='t',1,0)\n",
    "df['host_identity_verified'] = np.where(df['host_identity_verified']=='t',1,0)\n",
    "df['instant_bookable'] = np.where(df['instant_bookable']=='t',1,0)"
   ]
  },
  {
   "cell_type": "markdown",
   "metadata": {},
   "source": [
    "## Feature Engineering"
   ]
  },
  {
   "cell_type": "markdown",
   "metadata": {},
   "source": [
    "Feature engineering is a process where you transform variables or create new variables for the purpose of improving model performance."
   ]
  },
  {
   "cell_type": "code",
   "execution_count": null,
   "metadata": {},
   "outputs": [],
   "source": [
    "df['property_type'].value_counts()"
   ]
  },
  {
   "cell_type": "code",
   "execution_count": 17,
   "metadata": {
    "scrolled": false
   },
   "outputs": [
    {
     "name": "stderr",
     "output_type": "stream",
     "text": [
      "C:\\Users\\dglotzhober\\anaconda3\\lib\\site-packages\\ipykernel_launcher.py:4: SettingWithCopyWarning: \n",
      "A value is trying to be set on a copy of a slice from a DataFrame\n",
      "\n",
      "See the caveats in the documentation: http://pandas.pydata.org/pandas-docs/stable/indexing.html#indexing-view-versus-copy\n",
      "  after removing the cwd from sys.path.\n"
     ]
    }
   ],
   "source": [
    "df['property_type_feature'] = df['property_type']\n",
    "\n",
    "df['property_type_feature'][(df['property_type_feature'] != 'Apartment') & \n",
    "                            (df['property_type_feature'] != 'House')] = 'Other'"
   ]
  },
  {
   "cell_type": "code",
   "execution_count": 18,
   "metadata": {},
   "outputs": [
    {
     "data": {
      "text/plain": [
       "Apartment    65675\n",
       "House        22321\n",
       "Other        11573\n",
       "Name: property_type_feature, dtype: int64"
      ]
     },
     "execution_count": 18,
     "metadata": {},
     "output_type": "execute_result"
    }
   ],
   "source": [
    "df['property_type_feature'].value_counts()"
   ]
  },
  {
   "cell_type": "code",
   "execution_count": 19,
   "metadata": {},
   "outputs": [
    {
     "data": {
      "text/plain": [
       "96.0"
      ]
     },
     "execution_count": 19,
     "metadata": {},
     "output_type": "execute_result"
    }
   ],
   "source": [
    "# Segmenting\n",
    "med_score = df['review_scores_rating'].median()\n",
    "med_score"
   ]
  },
  {
   "cell_type": "code",
   "execution_count": 20,
   "metadata": {},
   "outputs": [
    {
     "data": {
      "text/html": [
       "<div>\n",
       "<style scoped>\n",
       "    .dataframe tbody tr th:only-of-type {\n",
       "        vertical-align: middle;\n",
       "    }\n",
       "\n",
       "    .dataframe tbody tr th {\n",
       "        vertical-align: top;\n",
       "    }\n",
       "\n",
       "    .dataframe thead th {\n",
       "        text-align: right;\n",
       "    }\n",
       "</style>\n",
       "<table border=\"1\" class=\"dataframe\">\n",
       "  <thead>\n",
       "    <tr style=\"text-align: right;\">\n",
       "      <th></th>\n",
       "      <th>accommodates</th>\n",
       "      <th>bathrooms</th>\n",
       "      <th>bed_type</th>\n",
       "      <th>bedrooms</th>\n",
       "      <th>beds</th>\n",
       "      <th>cancellation_policy</th>\n",
       "      <th>city</th>\n",
       "      <th>cleaning_fee</th>\n",
       "      <th>first_review</th>\n",
       "      <th>host_has_profile_pic</th>\n",
       "      <th>...</th>\n",
       "      <th>latitude</th>\n",
       "      <th>longitude</th>\n",
       "      <th>neighbourhood</th>\n",
       "      <th>number_of_reviews</th>\n",
       "      <th>property_type</th>\n",
       "      <th>review_scores_rating</th>\n",
       "      <th>room_type</th>\n",
       "      <th>zipcode</th>\n",
       "      <th>property_type_feature</th>\n",
       "      <th>below_average</th>\n",
       "    </tr>\n",
       "  </thead>\n",
       "  <tbody>\n",
       "    <tr>\n",
       "      <th>0</th>\n",
       "      <td>1</td>\n",
       "      <td>1.0</td>\n",
       "      <td>Real Bed</td>\n",
       "      <td>1</td>\n",
       "      <td>1</td>\n",
       "      <td>flexible</td>\n",
       "      <td>SF</td>\n",
       "      <td>1</td>\n",
       "      <td>2016-08-15</td>\n",
       "      <td>1</td>\n",
       "      <td>...</td>\n",
       "      <td>37.773742</td>\n",
       "      <td>-122.391503</td>\n",
       "      <td>Mission Bay</td>\n",
       "      <td>5</td>\n",
       "      <td>Apartment</td>\n",
       "      <td>95</td>\n",
       "      <td>Private room</td>\n",
       "      <td>95202</td>\n",
       "      <td>Apartment</td>\n",
       "      <td>1</td>\n",
       "    </tr>\n",
       "    <tr>\n",
       "      <th>1</th>\n",
       "      <td>1</td>\n",
       "      <td>1.0</td>\n",
       "      <td>Real Bed</td>\n",
       "      <td>1</td>\n",
       "      <td>1</td>\n",
       "      <td>flexible</td>\n",
       "      <td>LA</td>\n",
       "      <td>0</td>\n",
       "      <td>NaT</td>\n",
       "      <td>1</td>\n",
       "      <td>...</td>\n",
       "      <td>34.135680</td>\n",
       "      <td>-118.400691</td>\n",
       "      <td>Studio City</td>\n",
       "      <td>6</td>\n",
       "      <td>House</td>\n",
       "      <td>100</td>\n",
       "      <td>Private room</td>\n",
       "      <td>91604</td>\n",
       "      <td>House</td>\n",
       "      <td>0</td>\n",
       "    </tr>\n",
       "    <tr>\n",
       "      <th>2</th>\n",
       "      <td>2</td>\n",
       "      <td>1.0</td>\n",
       "      <td>Real Bed</td>\n",
       "      <td>1</td>\n",
       "      <td>1</td>\n",
       "      <td>moderate</td>\n",
       "      <td>LA</td>\n",
       "      <td>1</td>\n",
       "      <td>2011-11-16</td>\n",
       "      <td>1</td>\n",
       "      <td>...</td>\n",
       "      <td>34.192617</td>\n",
       "      <td>-118.136794</td>\n",
       "      <td>Altadena</td>\n",
       "      <td>136</td>\n",
       "      <td>Apartment</td>\n",
       "      <td>96</td>\n",
       "      <td>Entire home/apt</td>\n",
       "      <td>91001</td>\n",
       "      <td>Apartment</td>\n",
       "      <td>0</td>\n",
       "    </tr>\n",
       "    <tr>\n",
       "      <th>3</th>\n",
       "      <td>2</td>\n",
       "      <td>1.0</td>\n",
       "      <td>Real Bed</td>\n",
       "      <td>1</td>\n",
       "      <td>1</td>\n",
       "      <td>flexible</td>\n",
       "      <td>LA</td>\n",
       "      <td>0</td>\n",
       "      <td>NaT</td>\n",
       "      <td>1</td>\n",
       "      <td>...</td>\n",
       "      <td>34.023618</td>\n",
       "      <td>-118.501174</td>\n",
       "      <td>Santa Monica</td>\n",
       "      <td>0</td>\n",
       "      <td>Apartment</td>\n",
       "      <td>96</td>\n",
       "      <td>Private room</td>\n",
       "      <td>90403</td>\n",
       "      <td>Apartment</td>\n",
       "      <td>0</td>\n",
       "    </tr>\n",
       "    <tr>\n",
       "      <th>4</th>\n",
       "      <td>2</td>\n",
       "      <td>1.0</td>\n",
       "      <td>Real Bed</td>\n",
       "      <td>1</td>\n",
       "      <td>1</td>\n",
       "      <td>moderate</td>\n",
       "      <td>LA</td>\n",
       "      <td>1</td>\n",
       "      <td>2010-09-06</td>\n",
       "      <td>1</td>\n",
       "      <td>...</td>\n",
       "      <td>34.104213</td>\n",
       "      <td>-118.260040</td>\n",
       "      <td>Silver Lake</td>\n",
       "      <td>16</td>\n",
       "      <td>House</td>\n",
       "      <td>99</td>\n",
       "      <td>Private room</td>\n",
       "      <td>90039</td>\n",
       "      <td>House</td>\n",
       "      <td>0</td>\n",
       "    </tr>\n",
       "  </tbody>\n",
       "</table>\n",
       "<p>5 rows × 25 columns</p>\n",
       "</div>"
      ],
      "text/plain": [
       "   accommodates  bathrooms  bed_type  bedrooms  beds cancellation_policy city  \\\n",
       "0             1        1.0  Real Bed         1     1            flexible   SF   \n",
       "1             1        1.0  Real Bed         1     1            flexible   LA   \n",
       "2             2        1.0  Real Bed         1     1            moderate   LA   \n",
       "3             2        1.0  Real Bed         1     1            flexible   LA   \n",
       "4             2        1.0  Real Bed         1     1            moderate   LA   \n",
       "\n",
       "   cleaning_fee first_review  host_has_profile_pic      ...        latitude  \\\n",
       "0             1   2016-08-15                     1      ...       37.773742   \n",
       "1             0          NaT                     1      ...       34.135680   \n",
       "2             1   2011-11-16                     1      ...       34.192617   \n",
       "3             0          NaT                     1      ...       34.023618   \n",
       "4             1   2010-09-06                     1      ...       34.104213   \n",
       "\n",
       "    longitude neighbourhood  number_of_reviews property_type  \\\n",
       "0 -122.391503   Mission Bay                  5     Apartment   \n",
       "1 -118.400691   Studio City                  6         House   \n",
       "2 -118.136794      Altadena                136     Apartment   \n",
       "3 -118.501174  Santa Monica                  0     Apartment   \n",
       "4 -118.260040   Silver Lake                 16         House   \n",
       "\n",
       "   review_scores_rating        room_type zipcode  property_type_feature  \\\n",
       "0                    95     Private room   95202              Apartment   \n",
       "1                   100     Private room   91604                  House   \n",
       "2                    96  Entire home/apt   91001              Apartment   \n",
       "3                    96     Private room   90403              Apartment   \n",
       "4                    99     Private room   90039                  House   \n",
       "\n",
       "  below_average  \n",
       "0             1  \n",
       "1             0  \n",
       "2             0  \n",
       "3             0  \n",
       "4             0  \n",
       "\n",
       "[5 rows x 25 columns]"
      ]
     },
     "execution_count": 20,
     "metadata": {},
     "output_type": "execute_result"
    }
   ],
   "source": [
    "df['below_average'] = np.where(df['review_scores_rating'] < med_score, 1, 0)\n",
    "df.head()"
   ]
  },
  {
   "cell_type": "code",
   "execution_count": 21,
   "metadata": {},
   "outputs": [
    {
     "data": {
      "text/html": [
       "<div>\n",
       "<style scoped>\n",
       "    .dataframe tbody tr th:only-of-type {\n",
       "        vertical-align: middle;\n",
       "    }\n",
       "\n",
       "    .dataframe tbody tr th {\n",
       "        vertical-align: top;\n",
       "    }\n",
       "\n",
       "    .dataframe thead th {\n",
       "        text-align: right;\n",
       "    }\n",
       "</style>\n",
       "<table border=\"1\" class=\"dataframe\">\n",
       "  <thead>\n",
       "    <tr style=\"text-align: right;\">\n",
       "      <th></th>\n",
       "      <th>accommodates</th>\n",
       "      <th>bathrooms</th>\n",
       "      <th>bedrooms</th>\n",
       "      <th>beds</th>\n",
       "      <th>cleaning_fee</th>\n",
       "      <th>first_review</th>\n",
       "      <th>host_has_profile_pic</th>\n",
       "      <th>host_identity_verified</th>\n",
       "      <th>host_response_rate</th>\n",
       "      <th>host_since</th>\n",
       "      <th>...</th>\n",
       "      <th>cancellation_policy_super_strict_60</th>\n",
       "      <th>city_Chicago</th>\n",
       "      <th>city_DC</th>\n",
       "      <th>city_LA</th>\n",
       "      <th>city_NYC</th>\n",
       "      <th>city_SF</th>\n",
       "      <th>property_type_feature_House</th>\n",
       "      <th>property_type_feature_Other</th>\n",
       "      <th>room_type_Private room</th>\n",
       "      <th>room_type_Shared room</th>\n",
       "    </tr>\n",
       "  </thead>\n",
       "  <tbody>\n",
       "    <tr>\n",
       "      <th>0</th>\n",
       "      <td>1</td>\n",
       "      <td>1.0</td>\n",
       "      <td>1</td>\n",
       "      <td>1</td>\n",
       "      <td>1</td>\n",
       "      <td>2016-08-15</td>\n",
       "      <td>1</td>\n",
       "      <td>1</td>\n",
       "      <td>100</td>\n",
       "      <td>2013-07-04</td>\n",
       "      <td>...</td>\n",
       "      <td>0</td>\n",
       "      <td>0</td>\n",
       "      <td>0</td>\n",
       "      <td>0</td>\n",
       "      <td>0</td>\n",
       "      <td>1</td>\n",
       "      <td>0</td>\n",
       "      <td>0</td>\n",
       "      <td>1</td>\n",
       "      <td>0</td>\n",
       "    </tr>\n",
       "    <tr>\n",
       "      <th>1</th>\n",
       "      <td>1</td>\n",
       "      <td>1.0</td>\n",
       "      <td>1</td>\n",
       "      <td>1</td>\n",
       "      <td>0</td>\n",
       "      <td>NaT</td>\n",
       "      <td>1</td>\n",
       "      <td>0</td>\n",
       "      <td>100</td>\n",
       "      <td>NaT</td>\n",
       "      <td>...</td>\n",
       "      <td>0</td>\n",
       "      <td>0</td>\n",
       "      <td>0</td>\n",
       "      <td>1</td>\n",
       "      <td>0</td>\n",
       "      <td>0</td>\n",
       "      <td>1</td>\n",
       "      <td>0</td>\n",
       "      <td>1</td>\n",
       "      <td>0</td>\n",
       "    </tr>\n",
       "    <tr>\n",
       "      <th>2</th>\n",
       "      <td>2</td>\n",
       "      <td>1.0</td>\n",
       "      <td>1</td>\n",
       "      <td>1</td>\n",
       "      <td>1</td>\n",
       "      <td>2011-11-16</td>\n",
       "      <td>1</td>\n",
       "      <td>1</td>\n",
       "      <td>100</td>\n",
       "      <td>2011-09-19</td>\n",
       "      <td>...</td>\n",
       "      <td>0</td>\n",
       "      <td>0</td>\n",
       "      <td>0</td>\n",
       "      <td>1</td>\n",
       "      <td>0</td>\n",
       "      <td>0</td>\n",
       "      <td>0</td>\n",
       "      <td>0</td>\n",
       "      <td>0</td>\n",
       "      <td>0</td>\n",
       "    </tr>\n",
       "    <tr>\n",
       "      <th>3</th>\n",
       "      <td>2</td>\n",
       "      <td>1.0</td>\n",
       "      <td>1</td>\n",
       "      <td>1</td>\n",
       "      <td>0</td>\n",
       "      <td>NaT</td>\n",
       "      <td>1</td>\n",
       "      <td>0</td>\n",
       "      <td>100</td>\n",
       "      <td>2016-03-07</td>\n",
       "      <td>...</td>\n",
       "      <td>0</td>\n",
       "      <td>0</td>\n",
       "      <td>0</td>\n",
       "      <td>1</td>\n",
       "      <td>0</td>\n",
       "      <td>0</td>\n",
       "      <td>0</td>\n",
       "      <td>0</td>\n",
       "      <td>1</td>\n",
       "      <td>0</td>\n",
       "    </tr>\n",
       "    <tr>\n",
       "      <th>4</th>\n",
       "      <td>2</td>\n",
       "      <td>1.0</td>\n",
       "      <td>1</td>\n",
       "      <td>1</td>\n",
       "      <td>1</td>\n",
       "      <td>2010-09-06</td>\n",
       "      <td>1</td>\n",
       "      <td>1</td>\n",
       "      <td>100</td>\n",
       "      <td>2010-08-04</td>\n",
       "      <td>...</td>\n",
       "      <td>0</td>\n",
       "      <td>0</td>\n",
       "      <td>0</td>\n",
       "      <td>1</td>\n",
       "      <td>0</td>\n",
       "      <td>0</td>\n",
       "      <td>1</td>\n",
       "      <td>0</td>\n",
       "      <td>1</td>\n",
       "      <td>0</td>\n",
       "    </tr>\n",
       "  </tbody>\n",
       "</table>\n",
       "<p>5 rows × 38 columns</p>\n",
       "</div>"
      ],
      "text/plain": [
       "   accommodates  bathrooms  bedrooms  beds  cleaning_fee first_review  \\\n",
       "0             1        1.0         1     1             1   2016-08-15   \n",
       "1             1        1.0         1     1             0          NaT   \n",
       "2             2        1.0         1     1             1   2011-11-16   \n",
       "3             2        1.0         1     1             0          NaT   \n",
       "4             2        1.0         1     1             1   2010-09-06   \n",
       "\n",
       "   host_has_profile_pic  host_identity_verified  host_response_rate  \\\n",
       "0                     1                       1                 100   \n",
       "1                     1                       0                 100   \n",
       "2                     1                       1                 100   \n",
       "3                     1                       0                 100   \n",
       "4                     1                       1                 100   \n",
       "\n",
       "  host_since          ...            cancellation_policy_super_strict_60  \\\n",
       "0 2013-07-04          ...                                              0   \n",
       "1        NaT          ...                                              0   \n",
       "2 2011-09-19          ...                                              0   \n",
       "3 2016-03-07          ...                                              0   \n",
       "4 2010-08-04          ...                                              0   \n",
       "\n",
       "  city_Chicago  city_DC  city_LA city_NYC  city_SF  \\\n",
       "0            0        0        0        0        1   \n",
       "1            0        0        1        0        0   \n",
       "2            0        0        1        0        0   \n",
       "3            0        0        1        0        0   \n",
       "4            0        0        1        0        0   \n",
       "\n",
       "  property_type_feature_House  property_type_feature_Other  \\\n",
       "0                           0                            0   \n",
       "1                           1                            0   \n",
       "2                           0                            0   \n",
       "3                           0                            0   \n",
       "4                           1                            0   \n",
       "\n",
       "  room_type_Private room  room_type_Shared room  \n",
       "0                      1                      0  \n",
       "1                      1                      0  \n",
       "2                      0                      0  \n",
       "3                      1                      0  \n",
       "4                      1                      0  \n",
       "\n",
       "[5 rows x 38 columns]"
      ]
     },
     "execution_count": 21,
     "metadata": {},
     "output_type": "execute_result"
    }
   ],
   "source": [
    "categorical_feats = ['bed_type', 'cancellation_policy', 'city', 'property_type_feature', 'room_type']\n",
    "df_dummy = pd.get_dummies(df, columns=categorical_feats, drop_first=True)\n",
    "df_dummy.head()"
   ]
  },
  {
   "cell_type": "code",
   "execution_count": null,
   "metadata": {},
   "outputs": [],
   "source": [
    "# Lambda function coupled with apply on a pandas series\n",
    "df = df.sort_values(by='first_review')\n",
    "df['month'] = df['first_review'].apply(lambda x: x.month)\n",
    "df"
   ]
  },
  {
   "cell_type": "code",
   "execution_count": 27,
   "metadata": {},
   "outputs": [],
   "source": [
    "# This does the same thing functionally as lambda function above\n",
    "# This function takes in an input parameter called \"date\" and returns the month of that date.\n",
    "def retrieveMonth(date):\n",
    "    return date.month"
   ]
  },
  {
   "cell_type": "markdown",
   "metadata": {},
   "source": [
    "## Exploration/Visualization"
   ]
  },
  {
   "cell_type": "code",
   "execution_count": 30,
   "metadata": {},
   "outputs": [
    {
     "data": {
      "text/html": [
       "<div>\n",
       "<style scoped>\n",
       "    .dataframe tbody tr th:only-of-type {\n",
       "        vertical-align: middle;\n",
       "    }\n",
       "\n",
       "    .dataframe tbody tr th {\n",
       "        vertical-align: top;\n",
       "    }\n",
       "\n",
       "    .dataframe thead th {\n",
       "        text-align: right;\n",
       "    }\n",
       "</style>\n",
       "<table border=\"1\" class=\"dataframe\">\n",
       "  <thead>\n",
       "    <tr style=\"text-align: right;\">\n",
       "      <th></th>\n",
       "      <th>review_scores_rating</th>\n",
       "      <th>host_response_rate</th>\n",
       "    </tr>\n",
       "    <tr>\n",
       "      <th>neighbourhood</th>\n",
       "      <th></th>\n",
       "      <th></th>\n",
       "    </tr>\n",
       "  </thead>\n",
       "  <tbody>\n",
       "    <tr>\n",
       "      <th>16th Street Heights</th>\n",
       "      <td>95.530769</td>\n",
       "      <td>97.423077</td>\n",
       "    </tr>\n",
       "    <tr>\n",
       "      <th>Adams Morgan</th>\n",
       "      <td>95.381818</td>\n",
       "      <td>95.200000</td>\n",
       "    </tr>\n",
       "    <tr>\n",
       "      <th>Alamo Square</th>\n",
       "      <td>96.124031</td>\n",
       "      <td>93.775194</td>\n",
       "    </tr>\n",
       "    <tr>\n",
       "      <th>Albany Park</th>\n",
       "      <td>96.541667</td>\n",
       "      <td>99.166667</td>\n",
       "    </tr>\n",
       "    <tr>\n",
       "      <th>Alhambra</th>\n",
       "      <td>94.666667</td>\n",
       "      <td>98.545455</td>\n",
       "    </tr>\n",
       "  </tbody>\n",
       "</table>\n",
       "</div>"
      ],
      "text/plain": [
       "                     review_scores_rating  host_response_rate\n",
       "neighbourhood                                                \n",
       "16th Street Heights             95.530769           97.423077\n",
       "Adams Morgan                    95.381818           95.200000\n",
       "Alamo Square                    96.124031           93.775194\n",
       "Albany Park                     96.541667           99.166667\n",
       "Alhambra                        94.666667           98.545455"
      ]
     },
     "execution_count": 30,
     "metadata": {},
     "output_type": "execute_result"
    }
   ],
   "source": [
    "# We can make pivot tables using pandas just like we would in excel\n",
    "df_pivot = pd.pivot_table(df,\n",
    "               values=['review_scores_rating', 'host_response_rate'],\n",
    "               index='neighbourhood', \n",
    "               aggfunc={'review_scores_rating': np.mean,\n",
    "                        'host_response_rate': np.mean})[['review_scores_rating', 'host_response_rate']]\n",
    "df_pivot.head()"
   ]
  },
  {
   "cell_type": "markdown",
   "metadata": {},
   "source": [
    "We might hypothesize that review scores and response rate are correlated. Let's see how that pans out by plotting the correlation.\n"
   ]
  },
  {
   "cell_type": "code",
   "execution_count": null,
   "metadata": {},
   "outputs": [],
   "source": [
    "sns.regplot(x=\"review_scores_rating\", y=\"host_response_rate\", data=df_pivot);"
   ]
  },
  {
   "cell_type": "code",
   "execution_count": 356,
   "metadata": {},
   "outputs": [
    {
     "data": {
      "text/plain": [
       "<matplotlib.axes._subplots.AxesSubplot at 0xf1a8e30>"
      ]
     },
     "execution_count": 356,
     "metadata": {},
     "output_type": "execute_result"
    },
    {
     "data": {
      "image/png": "[encoded data removed]",
      "text/plain": [
       "<Figure size 432x288 with 1 Axes>"
      ]
     },
     "metadata": {},
     "output_type": "display_data"
    }
   ],
   "source": [
    "sns.kdeplot(df['review_scores_rating'], shade=True)"
   ]
  },
  {
   "cell_type": "code",
   "execution_count": 42,
   "metadata": {
    "scrolled": true
   },
   "outputs": [
    {
     "data": {
      "text/plain": [
       "<matplotlib.axes._subplots.AxesSubplot at 0x151367f0>"
      ]
     },
     "execution_count": 42,
     "metadata": {},
     "output_type": "execute_result"
    },
    {
     "data": {
      "image/png": "[encoded data removed]",
      "text/plain": [
       "<Figure size 432x288 with 1 Axes>"
      ]
     },
     "metadata": {},
     "output_type": "display_data"
    }
   ],
   "source": [
    "sns.countplot(x='property_type_feature', data=df)"
   ]
  },
  {
   "cell_type": "code",
   "execution_count": 43,
   "metadata": {
    "scrolled": true
   },
   "outputs": [
    {
     "data": {
      "text/plain": [
       "<matplotlib.axes._subplots.AxesSubplot at 0x9445d0>"
      ]
     },
     "execution_count": 43,
     "metadata": {},
     "output_type": "execute_result"
    },
    {
     "data": {
      "image/png": "[encoded data removed]",
      "text/plain": [
       "<Figure size 432x288 with 1 Axes>"
      ]
     },
     "metadata": {},
     "output_type": "display_data"
    }
   ],
   "source": [
    "sns.countplot(x='city', data=df)"
   ]
  },
  {
   "cell_type": "code",
   "execution_count": 75,
   "metadata": {},
   "outputs": [
    {
     "data": {
      "text/plain": [
       "strict             43504\n",
       "flexible           30435\n",
       "moderate           25450\n",
       "super_strict_30      154\n",
       "super_strict_60       25\n",
       "long_term              1\n",
       "Name: cancellation_policy, dtype: int64"
      ]
     },
     "execution_count": 75,
     "metadata": {},
     "output_type": "execute_result"
    }
   ],
   "source": [
    "df['cancellation_policy'].value_counts()"
   ]
  },
  {
   "cell_type": "code",
   "execution_count": 68,
   "metadata": {},
   "outputs": [
    {
     "data": {
      "text/plain": [
       "<matplotlib.axes._subplots.AxesSubplot at 0x15835c10>"
      ]
     },
     "execution_count": 68,
     "metadata": {},
     "output_type": "execute_result"
    },
    {
     "data": {
      "image/png": "[encoded data removed]",
      "text/plain": [
       "<Figure size 1008x288 with 1 Axes>"
      ]
     },
     "metadata": {},
     "output_type": "display_data"
    }
   ],
   "source": [
    "plt.figure(figsize=(14, 4))\n",
    "sns.boxplot(x='cancellation_policy', y='review_scores_rating', data=df[df['review_scores_rating']>80])"
   ]
  },
  {
   "cell_type": "code",
   "execution_count": 69,
   "metadata": {},
   "outputs": [
    {
     "data": {
      "text/plain": [
       "<seaborn.axisgrid.FacetGrid at 0x17186230>"
      ]
     },
     "execution_count": 69,
     "metadata": {},
     "output_type": "execute_result"
    },
    {
     "data": {
      "image/png": "[encoded data removed]",
      "text/plain": [
       "<Figure size 288x288 with 1 Axes>"
      ]
     },
     "metadata": {},
     "output_type": "display_data"
    }
   ],
   "source": [
    "sns.factorplot(data= df, \n",
    "               x= 'month',\n",
    "               y= 'review_scores_rating'\n",
    "              )"
   ]
  },
  {
   "cell_type": "code",
   "execution_count": 71,
   "metadata": {
    "scrolled": true
   },
   "outputs": [
    {
     "data": {
      "text/plain": [
       "<seaborn.axisgrid.FacetGrid at 0x17b094d0>"
      ]
     },
     "execution_count": 71,
     "metadata": {},
     "output_type": "execute_result"
    },
    {
     "data": {
      "image/png": "[encoded data removed]",
      "text/plain": [
       "<Figure size 864x288 with 3 Axes>"
      ]
     },
     "metadata": {},
     "output_type": "display_data"
    }
   ],
   "source": [
    "sns.factorplot(data= df, \n",
    "               x= 'month',\n",
    "               y= 'review_scores_rating',\n",
    "               col='property_type_feature'\n",
    "              )"
   ]
  }
 ],
 "metadata": {
  "kernelspec": {
   "display_name": "Python 3",
   "language": "python",
   "name": "python3"
  },
  "language_info": {
   "codemirror_mode": {
    "name": "ipython",
    "version": 3
   },
   "file_extension": ".py",
   "mimetype": "text/x-python",
   "name": "python",
   "nbconvert_exporter": "python",
   "pygments_lexer": "ipython3",
   "version": "3.7.4"
  }
 },
 "nbformat": 4,
 "nbformat_minor": 2
}
